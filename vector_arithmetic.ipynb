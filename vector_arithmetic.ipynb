{
 "cells": [
  {
   "cell_type": "markdown",
   "metadata": {},
   "source": [
    "## Vector arithmetic exercises\n",
    "To build intution"
   ]
  },
  {
   "cell_type": "code",
   "execution_count": 1,
   "metadata": {
    "collapsed": false
   },
   "outputs": [],
   "source": [
    "import numpy as np\n",
    "import matplotlib.pyplot as plt\n",
    "%matplotlib inline"
   ]
  },
  {
   "cell_type": "markdown",
   "metadata": {},
   "source": [
    "### Addition and subtraction\n",
    "Adding two vectors in numpy is easy. The \"+\" and \"-\" operators perform elementwise addition and subtraction, resp.\n",
    "\n",
    "For what it's worth, we can visualize these vectors, and simple operations on them, using \"quiver\""
   ]
  },
  {
   "cell_type": "code",
   "execution_count": 2,
   "metadata": {
    "collapsed": false
   },
   "outputs": [],
   "source": [
    "##assign arbitrary values\n",
    "x = np.array([3.2, 2.])\n",
    "x_color = np.array([.8,.3,.6])  ##pink vector\n",
    "y = np.array([4.8, -3])\n",
    "y_color = np.array([.2,.6,.8])  ##blue vector\n"
   ]
  },
  {
   "cell_type": "code",
   "execution_count": 3,
   "metadata": {
    "collapsed": false
   },
   "outputs": [
    {
     "data": {
      "text/plain": [
       "<matplotlib.legend.Legend at 0x7fcf77fc2850>"
      ]
     },
     "execution_count": 3,
     "metadata": {},
     "output_type": "execute_result"
    },
    {
     "data": {
      "image/png": "[encoded data removed]",
      "text/plain": [
       "<matplotlib.figure.Figure at 0x7fcf7b399a90>"
      ]
     },
     "metadata": {},
     "output_type": "display_data"
    }
   ],
   "source": [
    "##plot using quiver\n",
    "plt.quiver(x[0],x[1],angles='xy', scale_units ='xy',scale=1,color=x_color, label='x')\n",
    "plt.quiver(y[0],y[1],angles='xy', scale_units ='xy',scale=1,color=y_color, label='y')\n",
    "plt.ylim([-6,6])\n",
    "plt.xlim([-6,6])\n",
    "plt.gca().set_aspect('equal', adjustable='box')\n",
    "plt.legend()\n"
   ]
  },
  {
   "cell_type": "code",
   "execution_count": 4,
   "metadata": {
    "collapsed": false
   },
   "outputs": [
    {
     "name": "stdout",
     "output_type": "stream",
     "text": [
      "x: [ 3.2  2. ]\n",
      "y: [ 4.8 -3. ]\n",
      "x+y: [ 8. -1.]\n"
     ]
    },
    {
     "data": {
      "text/plain": [
       "<matplotlib.legend.Legend at 0x7fcf77ee8f90>"
      ]
     },
     "execution_count": 4,
     "metadata": {},
     "output_type": "execute_result"
    },
    {
     "data": {
      "image/png": "[encoded data removed]",
      "text/plain": [
       "<matplotlib.figure.Figure at 0x7fcf7804b290>"
      ]
     },
     "metadata": {},
     "output_type": "display_data"
    }
   ],
   "source": [
    "##plot x, y, x+y\n",
    "z = x+y\n",
    "print 'x: %s' %(x,)\n",
    "print 'y: %s' %(y,)\n",
    "print 'x+y: %s' %(z,)\n",
    "plt.quiver(x[0],x[1],angles='xy', scale_units ='xy',scale=1,color=x_color, label='x')\n",
    "plt.quiver(y[0],y[1],angles='xy', scale_units ='xy',scale=1,color=y_color, label = 'y')\n",
    "plt.quiver(z[0],z[1],angles='xy', scale_units ='xy',scale=1,color=np.array([0,0,0]), label='x+y')\n",
    "plt.ylim([-6,6])\n",
    "plt.xlim([-6,6])\n",
    "plt.gca().set_aspect('equal', adjustable='box')\n",
    "plt.legend()\n"
   ]
  },
  {
   "cell_type": "code",
   "execution_count": 5,
   "metadata": {
    "collapsed": false
   },
   "outputs": [
    {
     "name": "stdout",
     "output_type": "stream",
     "text": [
      "x: [ 3.2  2. ]\n",
      "y: [ 4.8 -3. ]\n",
      "x-y: [-1.6  5. ]\n"
     ]
    },
    {
     "data": {
      "text/plain": [
       "<matplotlib.legend.Legend at 0x7fcf77dc8910>"
      ]
     },
     "execution_count": 5,
     "metadata": {},
     "output_type": "execute_result"
    },
    {
     "data": {
      "image/png": "[encoded data removed]",
      "text/plain": [
       "<matplotlib.figure.Figure at 0x7fcf77f11410>"
      ]
     },
     "metadata": {},
     "output_type": "display_data"
    }
   ],
   "source": [
    "##plot x, y, x-y\n",
    "z = x-y\n",
    "print 'x: %s' %(x,)\n",
    "print 'y: %s' %(y,)\n",
    "print 'x-y: %s' %(z,)\n",
    "plt.quiver(x[0],x[1],angles='xy', scale_units ='xy',scale=1,color=x_color, label='x')\n",
    "plt.quiver(y[0],y[1],angles='xy', scale_units ='xy',scale=1,color=y_color, label='y')\n",
    "plt.quiver(z[0],z[1],angles='xy', scale_units ='xy',scale=1,color=np.array([0,0,0]), label='x-y')\n",
    "plt.ylim([-6,6])\n",
    "plt.xlim([-6,6])\n",
    "plt.gca().set_aspect('equal', adjustable='box')\n",
    "plt.legend()"
   ]
  },
  {
   "cell_type": "markdown",
   "metadata": {},
   "source": [
    "#### Exercise\n",
    "Summing vectors in series to generate a trajectory through space\n",
    "\n",
    "Suppose $\\mathbf{x}_0 = (1,0)$. Write a $\\mathbf{for}$ loop that performs a series of vector addtions according to the following rule:\n",
    "\n",
    "$\\mathbf{x}_{t+1} = \\mathbf{x}_{t}+\\lambda \\mathbf{x}^{\\perp}_{t}$\n",
    "\n",
    "where $\\mathbf{x}^{\\perp}$ is perpendicular to $\\mathbf{x}$ and $\\lambda$ is called the \"step-size\".\n",
    "\n",
    "In two dimensions, to obtain $\\mathbf{x}^{\\perp}$ simply swap vector elements, then negate the first element:\n",
    "\n",
    "$\\mathbf{x}^{\\perp} = \\left (-x_2, x_1 \\right )$\n",
    "\n",
    "Start by iterating for 10,000 steps, with a step size of 0.2. What trajectory is traced out by this procedure? How will the tajectory change as the step size is reduced?\n",
    "\n",
    "$\\textit{Hint}$: your solution should look like this: https://www.youtube.com/watch?v=FdCy6MGOVfw"
   ]
  },
  {
   "cell_type": "code",
   "execution_count": 6,
   "metadata": {
    "collapsed": false
   },
   "outputs": [],
   "source": [
    "### your code here"
   ]
  },
  {
   "cell_type": "markdown",
   "metadata": {},
   "source": [
    "### Dot products and matrix multiplication\n",
    "Every array comes with its own \"dot\" method"
   ]
  },
  {
   "cell_type": "code",
   "execution_count": 7,
   "metadata": {
    "collapsed": false
   },
   "outputs": [
    {
     "name": "stdout",
     "output_type": "stream",
     "text": [
      "9.36\n"
     ]
    }
   ],
   "source": [
    "print x.dot(y)"
   ]
  },
  {
   "cell_type": "markdown",
   "metadata": {},
   "source": [
    "When \"x\" is a matrix the \"dot\" method gives us matrix multiplication, as we expect"
   ]
  },
  {
   "cell_type": "code",
   "execution_count": 8,
   "metadata": {
    "collapsed": false
   },
   "outputs": [
    {
     "name": "stdout",
     "output_type": "stream",
     "text": [
      "[[ 6.44295747]\n",
      " [ 5.17113226]\n",
      " [ 5.27039533]\n",
      " [ 5.9528443 ]\n",
      " [ 4.16764413]\n",
      " [ 6.3933392 ]\n",
      " [ 3.40044532]\n",
      " [ 4.41237124]\n",
      " [ 4.36010574]\n",
      " [ 5.19035111]]\n",
      "dimensions of x3: (10, 1)\n"
     ]
    }
   ],
   "source": [
    "x1 = np.random.random((10,10))\n",
    "x2 = np.ones((10,1))\n",
    "x3 = x1.dot(x2)\n",
    "print x3\n",
    "print 'dimensions of x3: %s' %(x3.shape,)"
   ]
  },
  {
   "cell_type": "markdown",
   "metadata": {},
   "source": [
    "If dimensions don't match up, \"dot\" will complain. For example, if the inner dimension of \"x\" and the outer dimension of \"y\" don't match:"
   ]
  },
  {
   "cell_type": "code",
   "execution_count": 9,
   "metadata": {
    "collapsed": false
   },
   "outputs": [
    {
     "ename": "ValueError",
     "evalue": "shapes (10,10) and (1,10) not aligned: 10 (dim 1) != 1 (dim 0)",
     "output_type": "error",
     "traceback": [
      "\u001b[1;31m---------------------------------------------------------------------------\u001b[0m",
      "\u001b[1;31mValueError\u001b[0m                                Traceback (most recent call last)",
      "\u001b[1;32m<ipython-input-9-7fcf73b4f374>\u001b[0m in \u001b[0;36m<module>\u001b[1;34m()\u001b[0m\n\u001b[1;32m----> 1\u001b[1;33m \u001b[0mx1\u001b[0m\u001b[1;33m.\u001b[0m\u001b[0mdot\u001b[0m\u001b[1;33m(\u001b[0m\u001b[0mx2\u001b[0m\u001b[1;33m.\u001b[0m\u001b[0mT\u001b[0m\u001b[1;33m)\u001b[0m  \u001b[1;31m#y.T is (1,10)\u001b[0m\u001b[1;33m\u001b[0m\u001b[0m\n\u001b[0m",
      "\u001b[1;31mValueError\u001b[0m: shapes (10,10) and (1,10) not aligned: 10 (dim 1) != 1 (dim 0)"
     ]
    }
   ],
   "source": [
    "x1.dot(x2.T)  #y.T is (1,10)"
   ]
  },
  {
   "cell_type": "markdown",
   "metadata": {},
   "source": [
    "Be careful! The \"*\" operator in numpy performs elementwise multiplication. For matrix multiplication, use \"dot\"."
   ]
  },
  {
   "cell_type": "markdown",
   "metadata": {},
   "source": [
    "#### Exercise\n",
    "Use quiver to plot $\\mathbf{x}$, $\\mathbf{y}$, and the vector $\\mathbf{z}=\\mathbf{y}\\dfrac{\\mathbf{x}\\cdot \\mathbf{y}}{\\lvert \\lvert \\mathbf{y} \\rvert \\rvert^2}$ for some arbitrary $2D$ vectors $\\mathbf{x}$ and $\\mathbf{y}$. "
   ]
  },
  {
   "cell_type": "code",
   "execution_count": null,
   "metadata": {
    "collapsed": false
   },
   "outputs": [],
   "source": [
    "##your code here"
   ]
  },
  {
   "cell_type": "markdown",
   "metadata": {},
   "source": [
    "##### Exercise\n",
    "Using matrix multiplication to rotate a vector\n",
    "\n",
    "We learned that matrix-vector multiplication is like taking the dot product of the vector with each row of the matrix.\n",
    "\n",
    "We also learned that taking the dot product of a vector with two unit-length, orthogonal *coordinate* vectors gives the vector's location in space.\n",
    "\n",
    "We can use these facts to rotate a 2D vector through any angle. To do so, we rotate the coordinate vectors, and then project our vector onto them.\n",
    "\n",
    "Suppose our coordinate vectors are the rows on a matrix $W$:\n",
    "\n",
    "$W = \\begin{smallmatrix} cos(\\theta)&sin(\\theta)\\\\ -sin(\\theta)&cos(\\theta) \\end{smallmatrix}$\n",
    "\n",
    "Write a function that generates such a matrix, given an argument $\\theta$.\n",
    "\n",
    "For a few values of theta, show that the length of each row is one, and that the rows are orthogonal to each other.\n",
    "\n",
    "Use \"quiver\" to plot the rows of $W$ for various values of the angle $\\theta$.\n",
    "\n",
    "Rotate the vector $\\mathbf{x} = \\left (1,1 \\right ) $ by multiplying it by $W$. Use quiver to plot the results."
   ]
  },
  {
   "cell_type": "code",
   "execution_count": null,
   "metadata": {
    "collapsed": true
   },
   "outputs": [],
   "source": [
    "### your code here"
   ]
  }
 ],
 "metadata": {
  "kernelspec": {
   "display_name": "Python 2",
   "language": "python",
   "name": "python2"
  },
  "language_info": {
   "codemirror_mode": {
    "name": "ipython",
    "version": 2
   },
   "file_extension": ".py",
   "mimetype": "text/x-python",
   "name": "python",
   "nbconvert_exporter": "python",
   "pygments_lexer": "ipython2",
   "version": "2.7.12"
  }
 },
 "nbformat": 4,
 "nbformat_minor": 0
}
